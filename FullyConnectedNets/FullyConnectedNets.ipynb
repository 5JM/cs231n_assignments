{
  "nbformat": 4,
  "nbformat_minor": 0,
  "metadata": {
    "kernelspec": {
      "display_name": "Python 3",
      "name": "python3",
      "language": "python"
    },
    "language_info": {
      "mimetype": "text/x-python",
      "nbconvert_exporter": "python",
      "name": "python",
      "file_extension": ".py",
      "version": "3.5.0",
      "pygments_lexer": "ipython3",
      "codemirror_mode": {
        "version": 3,
        "name": "ipython"
      }
    },
    "colab": {
      "name": "FullyConnectedNets.ipynb",
      "provenance": []
    },
    "widgets": {
      "application/vnd.jupyter.widget-state+json": {
        "8e62bf5e98a949038ef37367b5a6d888": {
          "model_module": "@jupyter-widgets/controls",
          "model_name": "HBoxModel",
          "model_module_version": "1.5.0",
          "state": {
            "_view_name": "HBoxView",
            "_dom_classes": [],
            "_model_name": "HBoxModel",
            "_view_module": "@jupyter-widgets/controls",
            "_model_module_version": "1.5.0",
            "_view_count": null,
            "_view_module_version": "1.5.0",
            "box_style": "",
            "layout": "IPY_MODEL_7508e55d88504565b90b308fa5dddec0",
            "_model_module": "@jupyter-widgets/controls",
            "children": [
              "IPY_MODEL_b2bc581cecad438e9bf332a989ab3d69",
              "IPY_MODEL_09f53d15cf0544de977d69f58bff9016",
              "IPY_MODEL_525018c9fb4c4840a1dc864fa2c8b435"
            ]
          }
        },
        "7508e55d88504565b90b308fa5dddec0": {
          "model_module": "@jupyter-widgets/base",
          "model_name": "LayoutModel",
          "model_module_version": "1.2.0",
          "state": {
            "_view_name": "LayoutView",
            "grid_template_rows": null,
            "right": null,
            "justify_content": null,
            "_view_module": "@jupyter-widgets/base",
            "overflow": null,
            "_model_module_version": "1.2.0",
            "_view_count": null,
            "flex_flow": null,
            "width": null,
            "min_width": null,
            "border": null,
            "align_items": null,
            "bottom": null,
            "_model_module": "@jupyter-widgets/base",
            "top": null,
            "grid_column": null,
            "overflow_y": null,
            "overflow_x": null,
            "grid_auto_flow": null,
            "grid_area": null,
            "grid_template_columns": null,
            "flex": null,
            "_model_name": "LayoutModel",
            "justify_items": null,
            "grid_row": null,
            "max_height": null,
            "align_content": null,
            "visibility": null,
            "align_self": null,
            "height": null,
            "min_height": null,
            "padding": null,
            "grid_auto_rows": null,
            "grid_gap": null,
            "max_width": null,
            "order": null,
            "_view_module_version": "1.2.0",
            "grid_template_areas": null,
            "object_position": null,
            "object_fit": null,
            "grid_auto_columns": null,
            "margin": null,
            "display": null,
            "left": null
          }
        },
        "b2bc581cecad438e9bf332a989ab3d69": {
          "model_module": "@jupyter-widgets/controls",
          "model_name": "HTMLModel",
          "model_module_version": "1.5.0",
          "state": {
            "_view_name": "HTMLView",
            "style": "IPY_MODEL_d0d477abdbb1450b9c634324c293443c",
            "_dom_classes": [],
            "description": "",
            "_model_name": "HTMLModel",
            "placeholder": "​",
            "_view_module": "@jupyter-widgets/controls",
            "_model_module_version": "1.5.0",
            "value": "",
            "_view_count": null,
            "_view_module_version": "1.5.0",
            "description_tooltip": null,
            "_model_module": "@jupyter-widgets/controls",
            "layout": "IPY_MODEL_32b8f39803e248609c82ba327e039ec0"
          }
        },
        "09f53d15cf0544de977d69f58bff9016": {
          "model_module": "@jupyter-widgets/controls",
          "model_name": "FloatProgressModel",
          "model_module_version": "1.5.0",
          "state": {
            "_view_name": "ProgressView",
            "style": "IPY_MODEL_a6bd903d99d645aebe0861f8e04ec108",
            "_dom_classes": [],
            "description": "",
            "_model_name": "FloatProgressModel",
            "bar_style": "success",
            "max": 170498071,
            "_view_module": "@jupyter-widgets/controls",
            "_model_module_version": "1.5.0",
            "value": 170498071,
            "_view_count": null,
            "_view_module_version": "1.5.0",
            "orientation": "horizontal",
            "min": 0,
            "description_tooltip": null,
            "_model_module": "@jupyter-widgets/controls",
            "layout": "IPY_MODEL_f8399d5bd538423aa3b4b07081c77771"
          }
        },
        "525018c9fb4c4840a1dc864fa2c8b435": {
          "model_module": "@jupyter-widgets/controls",
          "model_name": "HTMLModel",
          "model_module_version": "1.5.0",
          "state": {
            "_view_name": "HTMLView",
            "style": "IPY_MODEL_bbf66b794c71432fb8e6f85f01219aad",
            "_dom_classes": [],
            "description": "",
            "_model_name": "HTMLModel",
            "placeholder": "​",
            "_view_module": "@jupyter-widgets/controls",
            "_model_module_version": "1.5.0",
            "value": " 170499072/? [00:03&lt;00:00, 58889601.18it/s]",
            "_view_count": null,
            "_view_module_version": "1.5.0",
            "description_tooltip": null,
            "_model_module": "@jupyter-widgets/controls",
            "layout": "IPY_MODEL_12cec2f4fa5d4acbb96677cfac40b801"
          }
        },
        "d0d477abdbb1450b9c634324c293443c": {
          "model_module": "@jupyter-widgets/controls",
          "model_name": "DescriptionStyleModel",
          "model_module_version": "1.5.0",
          "state": {
            "_view_name": "StyleView",
            "_model_name": "DescriptionStyleModel",
            "description_width": "",
            "_view_module": "@jupyter-widgets/base",
            "_model_module_version": "1.5.0",
            "_view_count": null,
            "_view_module_version": "1.2.0",
            "_model_module": "@jupyter-widgets/controls"
          }
        },
        "32b8f39803e248609c82ba327e039ec0": {
          "model_module": "@jupyter-widgets/base",
          "model_name": "LayoutModel",
          "model_module_version": "1.2.0",
          "state": {
            "_view_name": "LayoutView",
            "grid_template_rows": null,
            "right": null,
            "justify_content": null,
            "_view_module": "@jupyter-widgets/base",
            "overflow": null,
            "_model_module_version": "1.2.0",
            "_view_count": null,
            "flex_flow": null,
            "width": null,
            "min_width": null,
            "border": null,
            "align_items": null,
            "bottom": null,
            "_model_module": "@jupyter-widgets/base",
            "top": null,
            "grid_column": null,
            "overflow_y": null,
            "overflow_x": null,
            "grid_auto_flow": null,
            "grid_area": null,
            "grid_template_columns": null,
            "flex": null,
            "_model_name": "LayoutModel",
            "justify_items": null,
            "grid_row": null,
            "max_height": null,
            "align_content": null,
            "visibility": null,
            "align_self": null,
            "height": null,
            "min_height": null,
            "padding": null,
            "grid_auto_rows": null,
            "grid_gap": null,
            "max_width": null,
            "order": null,
            "_view_module_version": "1.2.0",
            "grid_template_areas": null,
            "object_position": null,
            "object_fit": null,
            "grid_auto_columns": null,
            "margin": null,
            "display": null,
            "left": null
          }
        },
        "a6bd903d99d645aebe0861f8e04ec108": {
          "model_module": "@jupyter-widgets/controls",
          "model_name": "ProgressStyleModel",
          "model_module_version": "1.5.0",
          "state": {
            "_view_name": "StyleView",
            "_model_name": "ProgressStyleModel",
            "description_width": "",
            "_view_module": "@jupyter-widgets/base",
            "_model_module_version": "1.5.0",
            "_view_count": null,
            "_view_module_version": "1.2.0",
            "bar_color": null,
            "_model_module": "@jupyter-widgets/controls"
          }
        },
        "f8399d5bd538423aa3b4b07081c77771": {
          "model_module": "@jupyter-widgets/base",
          "model_name": "LayoutModel",
          "model_module_version": "1.2.0",
          "state": {
            "_view_name": "LayoutView",
            "grid_template_rows": null,
            "right": null,
            "justify_content": null,
            "_view_module": "@jupyter-widgets/base",
            "overflow": null,
            "_model_module_version": "1.2.0",
            "_view_count": null,
            "flex_flow": null,
            "width": null,
            "min_width": null,
            "border": null,
            "align_items": null,
            "bottom": null,
            "_model_module": "@jupyter-widgets/base",
            "top": null,
            "grid_column": null,
            "overflow_y": null,
            "overflow_x": null,
            "grid_auto_flow": null,
            "grid_area": null,
            "grid_template_columns": null,
            "flex": null,
            "_model_name": "LayoutModel",
            "justify_items": null,
            "grid_row": null,
            "max_height": null,
            "align_content": null,
            "visibility": null,
            "align_self": null,
            "height": null,
            "min_height": null,
            "padding": null,
            "grid_auto_rows": null,
            "grid_gap": null,
            "max_width": null,
            "order": null,
            "_view_module_version": "1.2.0",
            "grid_template_areas": null,
            "object_position": null,
            "object_fit": null,
            "grid_auto_columns": null,
            "margin": null,
            "display": null,
            "left": null
          }
        },
        "bbf66b794c71432fb8e6f85f01219aad": {
          "model_module": "@jupyter-widgets/controls",
          "model_name": "DescriptionStyleModel",
          "model_module_version": "1.5.0",
          "state": {
            "_view_name": "StyleView",
            "_model_name": "DescriptionStyleModel",
            "description_width": "",
            "_view_module": "@jupyter-widgets/base",
            "_model_module_version": "1.5.0",
            "_view_count": null,
            "_view_module_version": "1.2.0",
            "_model_module": "@jupyter-widgets/controls"
          }
        },
        "12cec2f4fa5d4acbb96677cfac40b801": {
          "model_module": "@jupyter-widgets/base",
          "model_name": "LayoutModel",
          "model_module_version": "1.2.0",
          "state": {
            "_view_name": "LayoutView",
            "grid_template_rows": null,
            "right": null,
            "justify_content": null,
            "_view_module": "@jupyter-widgets/base",
            "overflow": null,
            "_model_module_version": "1.2.0",
            "_view_count": null,
            "flex_flow": null,
            "width": null,
            "min_width": null,
            "border": null,
            "align_items": null,
            "bottom": null,
            "_model_module": "@jupyter-widgets/base",
            "top": null,
            "grid_column": null,
            "overflow_y": null,
            "overflow_x": null,
            "grid_auto_flow": null,
            "grid_area": null,
            "grid_template_columns": null,
            "flex": null,
            "_model_name": "LayoutModel",
            "justify_items": null,
            "grid_row": null,
            "max_height": null,
            "align_content": null,
            "visibility": null,
            "align_self": null,
            "height": null,
            "min_height": null,
            "padding": null,
            "grid_auto_rows": null,
            "grid_gap": null,
            "max_width": null,
            "order": null,
            "_view_module_version": "1.2.0",
            "grid_template_areas": null,
            "object_position": null,
            "object_fit": null,
            "grid_auto_columns": null,
            "margin": null,
            "display": null,
            "left": null
          }
        }
      }
    }
  },
  "cells": [
    {
      "cell_type": "markdown",
      "metadata": {
        "editable": true,
        "deletable": true,
        "id": "qk3CxjBk26VY"
      },
      "source": [
        "# Fully-Connected Neural Nets\n",
        "In the previous homework you implemented a fully-connected two-layer neural network on CIFAR-10. The implementation was simple but not very modular since the loss and gradient were computed in a single monolithic function. This is manageable for a simple two-layer network, but would become impractical as we move to bigger models. Ideally we want to build networks using a more modular design so that we can implement different layer types in isolation and then snap them together into models with different architectures.\n",
        "\n",
        "In this exercise we will implement fully-connected networks using a more modular approach. For each layer we will implement a `forward` and a `backward` function. The `forward` function will receive inputs, weights, and other parameters and will return both an output and a `cache` object storing data needed for the backward pass, like this:\n",
        "\n",
        "```python\n",
        "def layer_forward(x, w):\n",
        "  \"\"\" Receive inputs x and weights w \"\"\"\n",
        "  # Do some computations ...\n",
        "  z = # ... some intermediate value\n",
        "  # Do some more computations ...\n",
        "  out = # the output\n",
        "   \n",
        "  cache = (x, w, z, out) # Values we need to compute gradients\n",
        "   \n",
        "  return out, cache\n",
        "```\n",
        "\n",
        "The backward pass will receive upstream derivatives and the `cache` object, and will return gradients with respect to the inputs and weights, like this:\n",
        "\n",
        "```python\n",
        "def layer_backward(dout, cache):\n",
        "  \"\"\"\n",
        "  Receive derivative of loss with respect to outputs and cache,\n",
        "  and compute derivative with respect to inputs.\n",
        "  \"\"\"\n",
        "  # Unpack cache values\n",
        "  x, w, z, out = cache\n",
        "  \n",
        "  # Use values in cache to compute derivatives\n",
        "  dx = # Derivative of loss with respect to x\n",
        "  dw = # Derivative of loss with respect to w\n",
        "  \n",
        "  return dx, dw\n",
        "```\n",
        "\n",
        "After implementing a bunch of layers this way, we will be able to easily combine them to build classifiers with different architectures.\n",
        "\n",
        "In addition to implementing fully-connected networks of arbitrary depth, we will also explore different update rules for optimization, and introduce Dropout as a regularizer and Batch Normalization as a tool to more efficiently optimize deep networks.\n",
        "  "
      ]
    },
    {
      "cell_type": "code",
      "metadata": {
        "editable": true,
        "deletable": true,
        "colab": {
          "base_uri": "https://localhost:8080/"
        },
        "id": "OhLgVenz26Va",
        "outputId": "4dc9d233-8ab8-4fc7-9fea-b893db7ba3da"
      },
      "source": [
        "# As usual, a bit of setup\n",
        "from __future__ import print_function\n",
        "import torchvision.transforms as transforms\n",
        "from torchvision.datasets import CIFAR10\n",
        "import time\n",
        "import numpy as np\n",
        "import matplotlib.pyplot as plt\n",
        "from fc_net import *\n",
        "from gradient_check import eval_numerical_gradient, eval_numerical_gradient_array\n",
        "from solver import Solver\n",
        "\n",
        "%matplotlib inline\n",
        "plt.rcParams['figure.figsize'] = (10.0, 8.0) # set default size of plots\n",
        "plt.rcParams['image.interpolation'] = 'nearest'\n",
        "plt.rcParams['image.cmap'] = 'gray'\n",
        "\n",
        "# for auto-reloading external modules\n",
        "# see http://stackoverflow.com/questions/1907993/autoreload-of-modules-in-ipython\n",
        "%load_ext autoreload\n",
        "%autoreload 2\n",
        "\n",
        "def rel_error(x, y):\n",
        "  \"\"\" returns relative error \"\"\"\n",
        "  return np.max(np.abs(x - y) / (np.maximum(1e-8, np.abs(x) + np.abs(y))))"
      ],
      "execution_count": null,
      "outputs": [
        {
          "output_type": "stream",
          "name": "stdout",
          "text": [
            "The autoreload extension is already loaded. To reload it, use:\n",
            "  %reload_ext autoreload\n"
          ]
        }
      ]
    },
    {
      "cell_type": "code",
      "metadata": {
        "id": "4TcnIVmH3LZY"
      },
      "source": [
        "def get_CIFAR10_data(num_training=49000, num_validation=1000, num_test=1000,\n",
        "                     subtract_mean=True):\n",
        "    \"\"\"\n",
        "    Load the CIFAR-10 dataset from disk and perform preprocessing to prepare\n",
        "    it for classifiers. These are the same steps as we used for the SVM, but\n",
        "    condensed to a single function.\n",
        "    \"\"\"\n",
        "    # Load the raw CIFAR-10 data\n",
        "    train_data = CIFAR10('./CIFAR10', train=True, transform=transforms.ToTensor(), download=True)\n",
        "    test_data = CIFAR10('./CIFAR10', train=False, transform=transforms.ToTensor(), download=True)\n",
        "\n",
        "    X_train, y_train = train_data.data.astype('float'), np.array(train_data.targets)\n",
        "    X_test, y_test = test_data.data.astype('float'), np.array(test_data.targets)\n",
        "\n",
        "    # Subsample the data\n",
        "    mask = list(range(num_training, num_training + num_validation))\n",
        "    X_val = X_train[mask]\n",
        "    y_val = y_train[mask]\n",
        "    mask = list(range(num_training))\n",
        "    X_train = X_train[mask]\n",
        "    y_train = y_train[mask]\n",
        "    mask = list(range(num_test))\n",
        "    X_test = X_test[mask]\n",
        "    y_test = y_test[mask]\n",
        "\n",
        "    # Normalize the data: subtract the mean image\n",
        "    if subtract_mean:\n",
        "        mean_image = np.mean(X_train, axis=0)\n",
        "        X_train -= mean_image\n",
        "        X_val -= mean_image\n",
        "        X_test -= mean_image\n",
        "\n",
        "    # Transpose so that channels come first\n",
        "    X_train = X_train.transpose(0, 3, 1, 2).copy()\n",
        "    X_val = X_val.transpose(0, 3, 1, 2).copy()\n",
        "    X_test = X_test.transpose(0, 3, 1, 2).copy()\n",
        "\n",
        "    # Package data into a dictionary\n",
        "    return {\n",
        "      'X_train': X_train, 'y_train': y_train,\n",
        "      'X_val': X_val, 'y_val': y_val,\n",
        "      'X_test': X_test, 'y_test': y_test,\n",
        "    }"
      ],
      "execution_count": null,
      "outputs": []
    },
    {
      "cell_type": "code",
      "metadata": {
        "editable": true,
        "deletable": true,
        "colab": {
          "base_uri": "https://localhost:8080/",
          "height": 202,
          "referenced_widgets": [
            "8e62bf5e98a949038ef37367b5a6d888",
            "7508e55d88504565b90b308fa5dddec0",
            "b2bc581cecad438e9bf332a989ab3d69",
            "09f53d15cf0544de977d69f58bff9016",
            "525018c9fb4c4840a1dc864fa2c8b435",
            "d0d477abdbb1450b9c634324c293443c",
            "32b8f39803e248609c82ba327e039ec0",
            "a6bd903d99d645aebe0861f8e04ec108",
            "f8399d5bd538423aa3b4b07081c77771",
            "bbf66b794c71432fb8e6f85f01219aad",
            "12cec2f4fa5d4acbb96677cfac40b801"
          ]
        },
        "id": "MRy2AUz126Vb",
        "outputId": "63593256-8288-44aa-be95-e8cc25432da7"
      },
      "source": [
        "# Load the (preprocessed) CIFAR10 data.\n",
        "\n",
        "data = get_CIFAR10_data()\n",
        "for k, v in list(data.items()):\n",
        "  print(('%s: ' % k, v.shape))"
      ],
      "execution_count": null,
      "outputs": [
        {
          "output_type": "stream",
          "name": "stdout",
          "text": [
            "Downloading https://www.cs.toronto.edu/~kriz/cifar-10-python.tar.gz to ./CIFAR10/cifar-10-python.tar.gz\n"
          ]
        },
        {
          "output_type": "display_data",
          "data": {
            "application/vnd.jupyter.widget-view+json": {
              "model_id": "8e62bf5e98a949038ef37367b5a6d888",
              "version_minor": 0,
              "version_major": 2
            },
            "text/plain": [
              "  0%|          | 0/170498071 [00:00<?, ?it/s]"
            ]
          },
          "metadata": {}
        },
        {
          "output_type": "stream",
          "name": "stdout",
          "text": [
            "Extracting ./CIFAR10/cifar-10-python.tar.gz to ./CIFAR10\n",
            "Files already downloaded and verified\n",
            "('X_train: ', (49000, 3, 32, 32))\n",
            "('y_train: ', (49000,))\n",
            "('X_val: ', (1000, 3, 32, 32))\n",
            "('y_val: ', (1000,))\n",
            "('X_test: ', (1000, 3, 32, 32))\n",
            "('y_test: ', (1000,))\n"
          ]
        }
      ]
    },
    {
      "cell_type": "markdown",
      "metadata": {
        "editable": true,
        "deletable": true,
        "id": "ehNj5CnV26Vb"
      },
      "source": [
        "# Affine layer: foward\n",
        "Open the file `cs231n/layers.py` and implement the `affine_forward` function.\n",
        "\n",
        "Once you are done you can test your implementaion by running the following:"
      ]
    },
    {
      "cell_type": "code",
      "metadata": {
        "editable": true,
        "deletable": true,
        "colab": {
          "base_uri": "https://localhost:8080/"
        },
        "id": "bo7HPSzQ26Vb",
        "outputId": "2381dbd4-2977-46f0-9e2b-20409bca99f2"
      },
      "source": [
        "# Test the affine_forward function\n",
        "\n",
        "num_inputs = 2\n",
        "input_shape = (4, 5, 6)\n",
        "output_dim = 3\n",
        "\n",
        "input_size = num_inputs * np.prod(input_shape)\n",
        "weight_size = output_dim * np.prod(input_shape)\n",
        "\n",
        "x = np.linspace(-0.1, 0.5, num=input_size).reshape(num_inputs, *input_shape)\n",
        "w = np.linspace(-0.2, 0.3, num=weight_size).reshape(np.prod(input_shape), output_dim)\n",
        "b = np.linspace(-0.3, 0.1, num=output_dim)\n",
        "\n",
        "out, _ = affine_forward(x, w, b)\n",
        "correct_out = np.array([[ 1.49834967,  1.70660132,  1.91485297],\n",
        "                        [ 3.25553199,  3.5141327,   3.77273342]])\n",
        "\n",
        "# Compare your output with ours. The error should be around 1e-9.\n",
        "print('Testing affine_forward function:')\n",
        "print('difference: ', rel_error(out, correct_out))"
      ],
      "execution_count": null,
      "outputs": [
        {
          "output_type": "stream",
          "name": "stdout",
          "text": [
            "Testing affine_forward function:\n",
            "difference:  9.769849468192957e-10\n"
          ]
        }
      ]
    },
    {
      "cell_type": "markdown",
      "metadata": {
        "editable": true,
        "deletable": true,
        "id": "KzlWOLni26Vb"
      },
      "source": [
        "# Affine layer: backward\n",
        "Now implement the `affine_backward` function and test your implementation using numeric gradient checking."
      ]
    },
    {
      "cell_type": "code",
      "metadata": {
        "editable": true,
        "deletable": true,
        "colab": {
          "base_uri": "https://localhost:8080/"
        },
        "id": "qy-cRU8026Vb",
        "outputId": "428d5632-e053-4a7b-eae3-7374d57afdfb"
      },
      "source": [
        "# Test the affine_backward function\n",
        "np.random.seed(231)\n",
        "x = np.random.randn(10, 2, 3)\n",
        "w = np.random.randn(6, 5)\n",
        "b = np.random.randn(5)\n",
        "dout = np.random.randn(10, 5)\n",
        "\n",
        "dx_num = eval_numerical_gradient_array(lambda x: affine_forward(x, w, b)[0], x, dout)\n",
        "dw_num = eval_numerical_gradient_array(lambda w: affine_forward(x, w, b)[0], w, dout)\n",
        "db_num = eval_numerical_gradient_array(lambda b: affine_forward(x, w, b)[0], b, dout)\n",
        "\n",
        "_, cache = affine_forward(x, w, b)\n",
        "dx, dw, db = affine_backward(dout, cache)\n",
        "\n",
        "# print(\"dx_num shape : {}\".format(dx_num.shape))\n",
        "# print(\"dx shape : {}\".format(dx.shape))\n",
        "dx = dx.reshape(dx_num.shape)\n",
        "# The error should be around 1e-10\n",
        "print('Testing affine_backward function:')\n",
        "print('dx error: ', rel_error(dx_num, dx))\n",
        "print('dw error: ', rel_error(dw_num, dw))\n",
        "print('db error: ', rel_error(db_num, db))"
      ],
      "execution_count": null,
      "outputs": [
        {
          "output_type": "stream",
          "name": "stdout",
          "text": [
            "Testing affine_backward function:\n",
            "dx error:  5.399100368651805e-11\n",
            "dw error:  9.904211865398145e-11\n",
            "db error:  2.4122867568119087e-11\n"
          ]
        }
      ]
    },
    {
      "cell_type": "markdown",
      "metadata": {
        "editable": true,
        "deletable": true,
        "id": "iUEvC0q626Vc"
      },
      "source": [
        "# ReLU layer: forward\n",
        "Implement the forward pass for the ReLU activation function in the `relu_forward` function and test your implementation using the following:"
      ]
    },
    {
      "cell_type": "code",
      "metadata": {
        "editable": true,
        "deletable": true,
        "colab": {
          "base_uri": "https://localhost:8080/"
        },
        "id": "gzt77h5W26Vc",
        "outputId": "eba6d706-6932-47c0-b2f5-81af011ee7b7"
      },
      "source": [
        "# Test the relu_forward function\n",
        "\n",
        "x = np.linspace(-0.5, 0.5, num=12).reshape(3, 4)\n",
        "\n",
        "out, _ = relu_forward(x)\n",
        "correct_out = np.array([[ 0.,          0.,          0.,          0.,        ],\n",
        "                        [ 0.,          0.,          0.04545455,  0.13636364,],\n",
        "                        [ 0.22727273,  0.31818182,  0.40909091,  0.5,       ]])\n",
        "\n",
        "# Compare your output with ours. The error should be around 5e-8\n",
        "print('Testing relu_forward function:')\n",
        "print('difference: ', rel_error(out, correct_out))"
      ],
      "execution_count": null,
      "outputs": [
        {
          "output_type": "stream",
          "name": "stdout",
          "text": [
            "Testing relu_forward function:\n",
            "difference:  4.999999798022158e-08\n"
          ]
        }
      ]
    },
    {
      "cell_type": "markdown",
      "metadata": {
        "editable": true,
        "deletable": true,
        "id": "KV4MSjBx26Ve"
      },
      "source": [
        "# ReLU layer: backward\n",
        "Now implement the backward pass for the ReLU activation function in the `relu_backward` function and test your implementation using numeric gradient checking:"
      ]
    },
    {
      "cell_type": "code",
      "metadata": {
        "editable": true,
        "deletable": true,
        "colab": {
          "base_uri": "https://localhost:8080/"
        },
        "id": "R8Bw-ILj26Ve",
        "outputId": "fd8bd07c-bd1f-4e52-9b6d-59791870b9b7"
      },
      "source": [
        "np.random.seed(231)\n",
        "x = np.random.randn(10, 10)\n",
        "dout = np.random.randn(*x.shape)\n",
        "\n",
        "dx_num = eval_numerical_gradient_array(lambda x: relu_forward(x)[0], x, dout)\n",
        "\n",
        "_, cache = relu_forward(x)\n",
        "dx = relu_backward(dout, cache)\n",
        "\n",
        "# The error should be around 3e-12\n",
        "print('Testing relu_backward function:')\n",
        "print('dx error: ', rel_error(dx_num, dx))"
      ],
      "execution_count": null,
      "outputs": [
        {
          "output_type": "stream",
          "name": "stdout",
          "text": [
            "Testing relu_backward function:\n",
            "dx error:  3.2756349136310288e-12\n"
          ]
        }
      ]
    },
    {
      "cell_type": "markdown",
      "metadata": {
        "editable": true,
        "deletable": true,
        "id": "_hOjFifp26Ve"
      },
      "source": [
        "# \"Sandwich\" layers\n",
        "There are some common patterns of layers that are frequently used in neural nets. For example, affine layers are frequently followed by a ReLU nonlinearity. To make these common patterns easy, we define several convenience layers in the file `cs231n/layer_utils.py`.\n",
        "\n",
        "For now take a look at the `affine_relu_forward` and `affine_relu_backward` functions, and run the following to numerically gradient check the backward pass:"
      ]
    },
    {
      "cell_type": "code",
      "metadata": {
        "editable": true,
        "deletable": true,
        "colab": {
          "base_uri": "https://localhost:8080/"
        },
        "id": "8S8trYOx26Ve",
        "outputId": "05bac585-8685-4328-9a34-172a9af880cf"
      },
      "source": [
        "from layer_utils import affine_relu_forward, affine_relu_backward\n",
        "np.random.seed(231)\n",
        "x = np.random.randn(2, 3, 4)\n",
        "w = np.random.randn(12, 10)\n",
        "b = np.random.randn(10)\n",
        "dout = np.random.randn(2, 10)\n",
        "\n",
        "out, cache = affine_relu_forward(x, w, b)\n",
        "dx, dw, db = affine_relu_backward(dout, cache)\n",
        "\n",
        "dx_num = eval_numerical_gradient_array(lambda x: affine_relu_forward(x, w, b)[0], x, dout)\n",
        "dw_num = eval_numerical_gradient_array(lambda w: affine_relu_forward(x, w, b)[0], w, dout)\n",
        "db_num = eval_numerical_gradient_array(lambda b: affine_relu_forward(x, w, b)[0], b, dout)\n",
        "\n",
        "dx = dx.reshape(dx_num.shape)\n",
        "\n",
        "print('Testing affine_relu_forward:')\n",
        "print('dx error: ', rel_error(dx_num, dx))\n",
        "print('dw error: ', rel_error(dw_num, dw))\n",
        "print('db error: ', rel_error(db_num, db))"
      ],
      "execution_count": null,
      "outputs": [
        {
          "output_type": "stream",
          "name": "stdout",
          "text": [
            "Testing affine_relu_forward:\n",
            "dx error:  2.299579177309368e-11\n",
            "dw error:  8.162011105764925e-11\n",
            "db error:  7.826724021458994e-12\n"
          ]
        }
      ]
    },
    {
      "cell_type": "markdown",
      "metadata": {
        "editable": true,
        "deletable": true,
        "id": "EFRZblrd26Vf"
      },
      "source": [
        "# Loss layers: Softmax and SVM\n",
        "You implemented these loss functions in the last assignment, so we'll give them to you for free here. You should still make sure you understand how they work by looking at the implementations in `cs231n/layers.py`.\n",
        "\n",
        "You can make sure that the implementations are correct by running the following:"
      ]
    },
    {
      "cell_type": "code",
      "metadata": {
        "editable": true,
        "deletable": true,
        "colab": {
          "base_uri": "https://localhost:8080/"
        },
        "id": "c_ti-g5a26Vf",
        "outputId": "c3beacfb-5714-48e6-eb79-99f1d83d2b1d"
      },
      "source": [
        "np.random.seed(231)\n",
        "num_classes, num_inputs = 10, 50\n",
        "x = 0.001 * np.random.randn(num_inputs, num_classes)\n",
        "y = np.random.randint(num_classes, size=num_inputs)\n",
        "\n",
        "dx_num = eval_numerical_gradient(lambda x: svm_loss(x, y)[0], x, verbose=False)\n",
        "loss, dx = svm_loss(x, y)\n",
        "\n",
        "# Test svm_loss function. Loss should be around 9 and dx error should be 1e-9\n",
        "print('Testing svm_loss:')\n",
        "print('loss: ', loss)\n",
        "print('dx error: ', rel_error(dx_num, dx))\n",
        "\n",
        "dx_num = eval_numerical_gradient(lambda x: softmax_loss(x, y)[0], x, verbose=False)\n",
        "loss, dx = softmax_loss(x, y)\n",
        "\n",
        "# Test softmax_loss function. Loss should be 2.3 and dx error should be 1e-8\n",
        "print('\\nTesting softmax_loss:')\n",
        "print('loss: ', loss)\n",
        "print('dx error: ', rel_error(dx_num, dx))"
      ],
      "execution_count": null,
      "outputs": [
        {
          "output_type": "stream",
          "name": "stdout",
          "text": [
            "Testing svm_loss:\n",
            "loss:  8.999602749096233\n",
            "dx error:  1.4021566006651672e-09\n",
            "\n",
            "Testing softmax_loss:\n",
            "loss:  2.302545844500738\n",
            "dx error:  9.384673161989355e-09\n"
          ]
        }
      ]
    },
    {
      "cell_type": "markdown",
      "metadata": {
        "editable": true,
        "deletable": true,
        "id": "viOncLL_26Vf"
      },
      "source": [
        "# Two-layer network\n",
        "In the previous assignment you implemented a two-layer neural network in a single monolithic class. Now that you have implemented modular versions of the necessary layers, you will reimplement the two layer network using these modular implementations.\n",
        "\n",
        "Open the file `cs231n/classifiers/fc_net.py` and complete the implementation of the `TwoLayerNet` class. This class will serve as a model for the other networks you will implement in this assignment, so read through it to make sure you understand the API. You can run the cell below to test your implementation."
      ]
    },
    {
      "cell_type": "code",
      "metadata": {
        "editable": true,
        "deletable": true,
        "id": "HM5B5xk626Vf",
        "colab": {
          "base_uri": "https://localhost:8080/"
        },
        "outputId": "3366b52e-2900-4e4c-f4b9-6833a708b046"
      },
      "source": [
        "np.random.seed(231)\n",
        "N, D, H, C = 3, 5, 50, 7\n",
        "X = np.random.randn(N, D)\n",
        "y = np.random.randint(C, size=N)\n",
        "\n",
        "std = 1e-3\n",
        "model = TwoLayerNet(input_dim=D, hidden_dim=H, num_classes=C, weight_scale=std)\n",
        "\n",
        "print('Testing initialization ... ')\n",
        "W1_std = abs(model.params['W1'].std() - std)\n",
        "b1 = model.params['b1']\n",
        "W2_std = abs(model.params['W2'].std() - std)\n",
        "b2 = model.params['b2']\n",
        "assert W1_std < std / 10, 'First layer weights do not seem right'\n",
        "assert np.all(b1 == 0), 'First layer biases do not seem right'\n",
        "assert W2_std < std / 10, 'Second layer weights do not seem right'\n",
        "assert np.all(b2 == 0), 'Second layer biases do not seem right'\n",
        "\n",
        "print('Testing test-time forward pass ... ')\n",
        "model.params['W1'] = np.linspace(-0.7, 0.3, num=D*H).reshape(D, H)\n",
        "model.params['b1'] = np.linspace(-0.1, 0.9, num=H)\n",
        "model.params['W2'] = np.linspace(-0.3, 0.4, num=H*C).reshape(H, C)\n",
        "model.params['b2'] = np.linspace(-0.9, 0.1, num=C)\n",
        "X = np.linspace(-5.5, 4.5, num=N*D).reshape(D, N).T\n",
        "scores = model.loss(X)\n",
        "correct_scores = np.asarray(\n",
        "  [[11.53165108,  12.2917344,   13.05181771,  13.81190102,  14.57198434, 15.33206765,  16.09215096],\n",
        "   [12.05769098,  12.74614105,  13.43459113,  14.1230412,   14.81149128, 15.49994135,  16.18839143],\n",
        "   [12.58373087,  13.20054771,  13.81736455,  14.43418138,  15.05099822, 15.66781506,  16.2846319 ]])\n",
        "scores_diff = np.abs(scores - correct_scores).sum()\n",
        "assert scores_diff < 1e-6, 'Problem with test-time forward pass'\n",
        "\n",
        "print('Testing training loss (no regularization)')\n",
        "y = np.asarray([0, 5, 1])\n",
        "loss, grads = model.loss(X, y)\n",
        "correct_loss = 3.4702243556\n",
        "assert abs(loss - correct_loss) < 1e-10, 'Problem with training-time loss'\n",
        "\n",
        "model.reg = 1.0\n",
        "loss, grads = model.loss(X, y)\n",
        "correct_loss = 26.5948426952\n",
        "assert abs(loss - correct_loss) < 1e-10, 'Problem with regularization loss'\n",
        "\n",
        "for reg in [0.0, 0.7]:\n",
        "  print('Running numeric gradient check with reg = ', reg)\n",
        "  model.reg = reg\n",
        "  loss, grads = model.loss(X, y)\n",
        "\n",
        "  for name in sorted(grads):\n",
        "    f = lambda _: model.loss(X, y)[0]\n",
        "    grad_num = eval_numerical_gradient(f, model.params[name], verbose=False)\n",
        "    print('%s relative error: %.2e' % (name, rel_error(grad_num, grads[name])))"
      ],
      "execution_count": null,
      "outputs": [
        {
          "output_type": "stream",
          "name": "stdout",
          "text": [
            "Testing initialization ... \n",
            "Testing test-time forward pass ... \n",
            "Testing training loss (no regularization)\n",
            "Running numeric gradient check with reg =  0.0\n",
            "W1 relative error: 1.83e-08\n",
            "W2 relative error: 3.12e-10\n",
            "b1 relative error: 9.83e-09\n",
            "b2 relative error: 4.33e-10\n",
            "Running numeric gradient check with reg =  0.7\n",
            "W1 relative error: 2.53e-07\n",
            "W2 relative error: 2.85e-08\n",
            "b1 relative error: 1.56e-08\n",
            "b2 relative error: 7.76e-10\n"
          ]
        }
      ]
    },
    {
      "cell_type": "markdown",
      "metadata": {
        "editable": true,
        "deletable": true,
        "id": "H-JrgTyL26Vg"
      },
      "source": [
        "# Solver\n",
        "In the previous assignment, the logic for training models was coupled to the models themselves. Following a more modular design, for this assignment we have split the logic for training models into a separate class.\n",
        "\n",
        "Open the file `cs231n/solver.py` and read through it to familiarize yourself with the API. After doing so, use a `Solver` instance to train a `TwoLayerNet` that achieves at least `50%` accuracy on the validation set."
      ]
    },
    {
      "cell_type": "code",
      "metadata": {
        "editable": true,
        "deletable": true,
        "id": "Unk_ErXu26Vg",
        "colab": {
          "base_uri": "https://localhost:8080/"
        },
        "outputId": "aa3243ca-d010-48ac-c103-702fd44cfd01"
      },
      "source": [
        "model = TwoLayerNet()\n",
        "solver = None\n",
        "\n",
        "##############################################################################\n",
        "# TODO: Use a Solver instance to train a TwoLayerNet that achieves at least  #\n",
        "# 50% accuracy on the validation set.                                        #\n",
        "##############################################################################\n",
        "\n",
        "solver = Solver(model, data, \n",
        "                update_rule = 'sgd',\n",
        "                optim_config = {\n",
        "                    'learning_rate': 1e-3\n",
        "                },\n",
        "                lr_decay = 0.95,\n",
        "                batch_size = 100,\n",
        "                num_epochs = 10,\n",
        "                print_every = 100,\n",
        "                # verbose = ,\n",
        "                # num_train_samples = ,\n",
        "                # num_val_samples = ,\n",
        "                # checkpoint_name = \n",
        "                )\n",
        "print(data['X_train'].shape)\n",
        "solver.train()\n",
        "##############################################################################\n",
        "#                             END OF YOUR CODE                               #\n",
        "##############################################################################"
      ],
      "execution_count": null,
      "outputs": [
        {
          "output_type": "stream",
          "name": "stdout",
          "text": [
            "(49000, 3, 32, 32)\n",
            "(Iteration 1 / 4900) loss: 2.304060\n",
            "(Epoch 0 / 10) train acc: 0.116000; val_acc: 0.094000\n",
            "(Iteration 101 / 4900) loss: 1.829613\n",
            "(Iteration 201 / 4900) loss: 1.857390\n",
            "(Iteration 301 / 4900) loss: 1.744448\n",
            "(Iteration 401 / 4900) loss: 1.420187\n",
            "(Epoch 1 / 10) train acc: 0.407000; val_acc: 0.422000\n",
            "(Iteration 501 / 4900) loss: 1.565913\n",
            "(Iteration 601 / 4900) loss: 1.700510\n",
            "(Iteration 701 / 4900) loss: 1.732213\n",
            "(Iteration 801 / 4900) loss: 1.688361\n",
            "(Iteration 901 / 4900) loss: 1.439529\n",
            "(Epoch 2 / 10) train acc: 0.497000; val_acc: 0.468000\n",
            "(Iteration 1001 / 4900) loss: 1.385772\n",
            "(Iteration 1101 / 4900) loss: 1.278401\n",
            "(Iteration 1201 / 4900) loss: 1.641580\n",
            "(Iteration 1301 / 4900) loss: 1.438847\n",
            "(Iteration 1401 / 4900) loss: 1.172536\n",
            "(Epoch 3 / 10) train acc: 0.490000; val_acc: 0.466000\n",
            "(Iteration 1501 / 4900) loss: 1.346286\n",
            "(Iteration 1601 / 4900) loss: 1.268492\n",
            "(Iteration 1701 / 4900) loss: 1.318215\n",
            "(Iteration 1801 / 4900) loss: 1.395750\n",
            "(Iteration 1901 / 4900) loss: 1.338233\n",
            "(Epoch 4 / 10) train acc: 0.532000; val_acc: 0.497000\n",
            "(Iteration 2001 / 4900) loss: 1.343165\n",
            "(Iteration 2101 / 4900) loss: 1.393173\n",
            "(Iteration 2201 / 4900) loss: 1.276734\n",
            "(Iteration 2301 / 4900) loss: 1.287951\n",
            "(Iteration 2401 / 4900) loss: 1.352778\n",
            "(Epoch 5 / 10) train acc: 0.525000; val_acc: 0.475000\n",
            "(Iteration 2501 / 4900) loss: 1.390234\n",
            "(Iteration 2601 / 4900) loss: 1.276361\n",
            "(Iteration 2701 / 4900) loss: 1.111768\n",
            "(Iteration 2801 / 4900) loss: 1.271688\n",
            "(Iteration 2901 / 4900) loss: 1.272039\n",
            "(Epoch 6 / 10) train acc: 0.546000; val_acc: 0.509000\n",
            "(Iteration 3001 / 4900) loss: 1.304489\n",
            "(Iteration 3101 / 4900) loss: 1.346667\n",
            "(Iteration 3201 / 4900) loss: 1.325510\n",
            "(Iteration 3301 / 4900) loss: 1.392728\n",
            "(Iteration 3401 / 4900) loss: 1.402001\n",
            "(Epoch 7 / 10) train acc: 0.567000; val_acc: 0.505000\n",
            "(Iteration 3501 / 4900) loss: 1.319024\n",
            "(Iteration 3601 / 4900) loss: 1.153287\n",
            "(Iteration 3701 / 4900) loss: 1.180922\n",
            "(Iteration 3801 / 4900) loss: 1.093164\n",
            "(Iteration 3901 / 4900) loss: 1.135902\n",
            "(Epoch 8 / 10) train acc: 0.568000; val_acc: 0.490000\n",
            "(Iteration 4001 / 4900) loss: 1.191735\n",
            "(Iteration 4101 / 4900) loss: 1.359396\n",
            "(Iteration 4201 / 4900) loss: 1.227283\n",
            "(Iteration 4301 / 4900) loss: 1.024113\n",
            "(Iteration 4401 / 4900) loss: 1.327583\n",
            "(Epoch 9 / 10) train acc: 0.592000; val_acc: 0.504000\n",
            "(Iteration 4501 / 4900) loss: 0.963330\n",
            "(Iteration 4601 / 4900) loss: 1.445619\n",
            "(Iteration 4701 / 4900) loss: 1.007542\n",
            "(Iteration 4801 / 4900) loss: 1.005175\n",
            "(Epoch 10 / 10) train acc: 0.611000; val_acc: 0.512000\n"
          ]
        }
      ]
    },
    {
      "cell_type": "code",
      "metadata": {
        "editable": true,
        "deletable": true,
        "id": "sGEZs8nx26Vg",
        "colab": {
          "base_uri": "https://localhost:8080/",
          "height": 730
        },
        "outputId": "21115701-59db-4782-e3fc-1a9078842c71"
      },
      "source": [
        "# Run this cell to visualize training loss and train / val accuracy\n",
        "\n",
        "plt.subplot(2, 1, 1)\n",
        "plt.title('Training loss')\n",
        "plt.plot(solver.loss_history, 'o')\n",
        "plt.xlabel('Iteration')\n",
        "\n",
        "plt.subplot(2, 1, 2)\n",
        "plt.title('Accuracy')\n",
        "plt.plot(solver.train_acc_history, '-o', label='train')\n",
        "plt.plot(solver.val_acc_history, '-o', label='val')\n",
        "plt.plot([0.5] * len(solver.val_acc_history), 'k--')\n",
        "plt.xlabel('Epoch')\n",
        "plt.legend(loc='lower right')\n",
        "plt.gcf().set_size_inches(15, 12)\n",
        "plt.show()"
      ],
      "execution_count": null,
      "outputs": [
        {
          "output_type": "display_data",
          "data": {
            "image/png": "[encoded data removed]",
            "text/plain": [
              "<Figure size 1080x864 with 2 Axes>"
            ]
          },
          "metadata": {
            "needs_background": "light"
          }
        }
      ]
    },
    {
      "cell_type": "markdown",
      "metadata": {
        "editable": true,
        "deletable": true,
        "id": "lRjH6lRg26Vh"
      },
      "source": [
        "# Multilayer network\n",
        "Next you will implement a fully-connected network with an arbitrary number of hidden layers.\n",
        "\n",
        "Read through the `FullyConnectedNet` class in the file `cs231n/classifiers/fc_net.py`.\n",
        "\n",
        "Implement the initialization, the forward pass, and the backward pass. For the moment don't worry about implementing dropout or batch normalization; we will add those features soon."
      ]
    },
    {
      "cell_type": "markdown",
      "metadata": {
        "editable": true,
        "deletable": true,
        "id": "mZdm3NWr26Vh"
      },
      "source": [
        "## Initial loss and gradient check"
      ]
    },
    {
      "cell_type": "markdown",
      "metadata": {
        "editable": true,
        "deletable": true,
        "id": "eT4nudMr26Vh"
      },
      "source": [
        "As a sanity check, run the following to check the initial loss and to gradient check the network both with and without regularization. Do the initial losses seem reasonable?\n",
        "\n",
        "For gradient checking, you should expect to see errors around 1e-6 or less."
      ]
    },
    {
      "cell_type": "code",
      "metadata": {
        "editable": true,
        "deletable": true,
        "id": "qE2mAJGx26Vh",
        "colab": {
          "base_uri": "https://localhost:8080/"
        },
        "outputId": "71625911-d362-43e9-d6f3-3111cbc05308"
      },
      "source": [
        "np.random.seed(231)\n",
        "N, D, H1, H2, C = 2, 15, 20, 30, 10\n",
        "X = np.random.randn(N, D)\n",
        "y = np.random.randint(C, size=(N,))\n",
        "\n",
        "for reg in [0, 3.14]:\n",
        "  print('Running check with reg = ', reg)\n",
        "  model = FullyConnectedNet([H1, H2], input_dim=D, num_classes=C,\n",
        "                            reg=reg, weight_scale=5e-2, dtype=np.float64)\n",
        "\n",
        "  loss, grads = model.loss(X, y)\n",
        "  print('Initial loss: ', loss)\n",
        "\n",
        "  for name in sorted(grads):\n",
        "    f = lambda _: model.loss(X, y)[0]\n",
        "    grad_num = eval_numerical_gradient(f, model.params[name], verbose=False, h=1e-5)\n",
        "    print('%s relative error: %.2e' % (name, rel_error(grad_num, grads[name])))"
      ],
      "execution_count": null,
      "outputs": [
        {
          "output_type": "stream",
          "name": "stdout",
          "text": [
            "Running check with reg =  0\n",
            "Initial loss:  2.3004790897684924\n",
            "W1 relative error: 1.48e-07\n",
            "W2 relative error: 2.21e-05\n",
            "W3 relative error: 3.53e-07\n",
            "b1 relative error: 5.38e-09\n",
            "b2 relative error: 2.09e-09\n",
            "b3 relative error: 5.80e-11\n",
            "Running check with reg =  3.14\n",
            "Initial loss:  7.052114776533016\n",
            "W1 relative error: 7.36e-09\n",
            "W2 relative error: 6.87e-08\n",
            "W3 relative error: 3.48e-08\n",
            "b1 relative error: 1.48e-08\n",
            "b2 relative error: 1.72e-09\n",
            "b3 relative error: 1.80e-10\n"
          ]
        }
      ]
    },
    {
      "cell_type": "markdown",
      "metadata": {
        "editable": true,
        "deletable": true,
        "id": "P2s4xAZO26Vh"
      },
      "source": [
        "As another sanity check, make sure you can overfit a small dataset of 50 images. First we will try a three-layer network with 100 units in each hidden layer. You will need to tweak the learning rate and initialization scale, but you should be able to overfit and achieve 100% training accuracy within 20 epochs."
      ]
    },
    {
      "cell_type": "code",
      "metadata": {
        "scrolled": false,
        "editable": true,
        "deletable": true,
        "id": "R0abPxuy26Vh",
        "colab": {
          "base_uri": "https://localhost:8080/",
          "height": 938
        },
        "outputId": "2b75b818-1471-4728-a990-8c9b1bb2148c"
      },
      "source": [
        "# TODO: Use a three-layer Net to overfit 50 training examples.\n",
        "\n",
        "num_train = 50\n",
        "small_data = {\n",
        "  'X_train': data['X_train'][:num_train],\n",
        "  'y_train': data['y_train'][:num_train],\n",
        "  'X_val': data['X_val'],\n",
        "  'y_val': data['y_val'],\n",
        "}\n",
        "\n",
        "weight_scale = 2e-2\n",
        "learning_rate = 3e-3 # lr을 큰 값으로 조정.\n",
        "model = FullyConnectedNet([100, 100],\n",
        "              weight_scale=weight_scale, dtype=np.float64)\n",
        "solver = Solver(model, small_data,\n",
        "                print_every=10, num_epochs=20, batch_size=25,\n",
        "                update_rule='sgd',\n",
        "                optim_config={\n",
        "                  'learning_rate': learning_rate,\n",
        "                }\n",
        "         )\n",
        "solver.train()\n",
        "\n",
        "plt.plot(solver.loss_history, 'o')\n",
        "plt.title('Training loss history')\n",
        "plt.xlabel('Iteration')\n",
        "plt.ylabel('Training loss')\n",
        "plt.show()"
      ],
      "execution_count": null,
      "outputs": [
        {
          "output_type": "stream",
          "name": "stdout",
          "text": [
            "(Iteration 1 / 40) loss: 3.604568\n",
            "(Epoch 0 / 20) train acc: 0.180000; val_acc: 0.109000\n",
            "(Epoch 1 / 20) train acc: 0.360000; val_acc: 0.137000\n",
            "(Epoch 2 / 20) train acc: 0.600000; val_acc: 0.155000\n",
            "(Epoch 3 / 20) train acc: 0.720000; val_acc: 0.170000\n",
            "(Epoch 4 / 20) train acc: 0.800000; val_acc: 0.171000\n",
            "(Epoch 5 / 20) train acc: 0.880000; val_acc: 0.182000\n",
            "(Iteration 11 / 40) loss: 0.402117\n",
            "(Epoch 6 / 20) train acc: 0.880000; val_acc: 0.194000\n",
            "(Epoch 7 / 20) train acc: 0.900000; val_acc: 0.183000\n",
            "(Epoch 8 / 20) train acc: 0.940000; val_acc: 0.203000\n",
            "(Epoch 9 / 20) train acc: 0.980000; val_acc: 0.195000\n",
            "(Epoch 10 / 20) train acc: 0.980000; val_acc: 0.185000\n",
            "(Iteration 21 / 40) loss: 0.245577\n",
            "(Epoch 11 / 20) train acc: 1.000000; val_acc: 0.201000\n",
            "(Epoch 12 / 20) train acc: 1.000000; val_acc: 0.180000\n",
            "(Epoch 13 / 20) train acc: 1.000000; val_acc: 0.181000\n",
            "(Epoch 14 / 20) train acc: 1.000000; val_acc: 0.189000\n",
            "(Epoch 15 / 20) train acc: 1.000000; val_acc: 0.187000\n",
            "(Iteration 31 / 40) loss: 0.107372\n",
            "(Epoch 16 / 20) train acc: 1.000000; val_acc: 0.195000\n",
            "(Epoch 17 / 20) train acc: 1.000000; val_acc: 0.196000\n",
            "(Epoch 18 / 20) train acc: 1.000000; val_acc: 0.199000\n",
            "(Epoch 19 / 20) train acc: 1.000000; val_acc: 0.191000\n",
            "(Epoch 20 / 20) train acc: 1.000000; val_acc: 0.189000\n"
          ]
        },
        {
          "output_type": "display_data",
          "data": {
            "image/png": "[encoded data removed]",
            "text/plain": [
              "<Figure size 720x576 with 1 Axes>"
            ]
          },
          "metadata": {
            "needs_background": "light"
          }
        }
      ]
    },
    {
      "cell_type": "markdown",
      "metadata": {
        "editable": true,
        "deletable": true,
        "id": "TQ161Gtb26Vi"
      },
      "source": [
        "Now try to use a five-layer network with 100 units on each layer to overfit 50 training examples. Again you will have to adjust the learning rate and weight initialization, but you should be able to achieve 100% training accuracy within 20 epochs."
      ]
    },
    {
      "cell_type": "code",
      "metadata": {
        "editable": true,
        "deletable": true,
        "id": "1L7-Ptol26Vi",
        "colab": {
          "base_uri": "https://localhost:8080/",
          "height": 938
        },
        "outputId": "d6b96374-bba1-4bd9-9266-77684644e377"
      },
      "source": [
        "# TODO: Use a five-layer Net to overfit 50 training examples.\n",
        "\n",
        "num_train = 50\n",
        "small_data = {\n",
        "  'X_train': data['X_train'][:num_train],\n",
        "  'y_train': data['y_train'][:num_train],\n",
        "  'X_val': data['X_val'],\n",
        "  'y_val': data['y_val'],\n",
        "}\n",
        "\n",
        "learning_rate = 2e-3\n",
        "weight_scale = 9e-2\n",
        "model = FullyConnectedNet([100, 100, 100, 100],\n",
        "                weight_scale=weight_scale, dtype=np.float64)\n",
        "solver = Solver(model, small_data,\n",
        "                print_every=10, num_epochs=20, batch_size=25,\n",
        "                update_rule='sgd',\n",
        "                optim_config={\n",
        "                  'learning_rate': learning_rate,\n",
        "                }\n",
        "         )\n",
        "solver.train()\n",
        "\n",
        "plt.plot(solver.loss_history, 'o')\n",
        "plt.title('Training loss history')\n",
        "plt.xlabel('Iteration')\n",
        "plt.ylabel('Training loss')\n",
        "plt.show()"
      ],
      "execution_count": null,
      "outputs": [
        {
          "output_type": "stream",
          "name": "stdout",
          "text": [
            "(Iteration 1 / 40) loss: 98.325850\n",
            "(Epoch 0 / 20) train acc: 0.160000; val_acc: 0.111000\n",
            "(Epoch 1 / 20) train acc: 0.240000; val_acc: 0.082000\n",
            "(Epoch 2 / 20) train acc: 0.300000; val_acc: 0.106000\n",
            "(Epoch 3 / 20) train acc: 0.480000; val_acc: 0.120000\n",
            "(Epoch 4 / 20) train acc: 0.680000; val_acc: 0.123000\n",
            "(Epoch 5 / 20) train acc: 0.840000; val_acc: 0.137000\n",
            "(Iteration 11 / 40) loss: 0.873759\n",
            "(Epoch 6 / 20) train acc: 0.900000; val_acc: 0.129000\n",
            "(Epoch 7 / 20) train acc: 0.940000; val_acc: 0.127000\n",
            "(Epoch 8 / 20) train acc: 1.000000; val_acc: 0.133000\n",
            "(Epoch 9 / 20) train acc: 1.000000; val_acc: 0.129000\n",
            "(Epoch 10 / 20) train acc: 1.000000; val_acc: 0.129000\n",
            "(Iteration 21 / 40) loss: 0.002604\n",
            "(Epoch 11 / 20) train acc: 1.000000; val_acc: 0.128000\n",
            "(Epoch 12 / 20) train acc: 1.000000; val_acc: 0.128000\n",
            "(Epoch 13 / 20) train acc: 1.000000; val_acc: 0.128000\n",
            "(Epoch 14 / 20) train acc: 1.000000; val_acc: 0.129000\n",
            "(Epoch 15 / 20) train acc: 1.000000; val_acc: 0.131000\n",
            "(Iteration 31 / 40) loss: 0.003609\n",
            "(Epoch 16 / 20) train acc: 1.000000; val_acc: 0.130000\n",
            "(Epoch 17 / 20) train acc: 1.000000; val_acc: 0.131000\n",
            "(Epoch 18 / 20) train acc: 1.000000; val_acc: 0.129000\n",
            "(Epoch 19 / 20) train acc: 1.000000; val_acc: 0.129000\n",
            "(Epoch 20 / 20) train acc: 1.000000; val_acc: 0.129000\n"
          ]
        },
        {
          "output_type": "display_data",
          "data": {
            "image/png": "[encoded data removed]",
            "text/plain": [
              "<Figure size 720x576 with 1 Axes>"
            ]
          },
          "metadata": {
            "needs_background": "light"
          }
        }
      ]
    },
    {
      "cell_type": "markdown",
      "metadata": {
        "editable": true,
        "deletable": true,
        "id": "xOdx62aH26Vi"
      },
      "source": [
        "# Inline question: \n",
        "Did you notice anything about the comparative difficulty of training the three-layer net vs training the five layer net?\n",
        "\n",
        "# Answer:\n",
        "5-layer net이 initialization scale에 더 민감했다. 이유는 layer의 수가 더 많기 때문에 작은 수의 initialization 값은 vanishing gradients 문제가 생기며, 큰 initialization 값은 exploding gradients 문제가 생긴다. 따라서 더 깊은 layer를 가진 네트워크일 수 록 initialization scale에 더 민감하다. \n"
      ]
    },
    {
      "cell_type": "markdown",
      "metadata": {
        "editable": true,
        "deletable": true,
        "id": "eqVOf5pj26Vi"
      },
      "source": [
        "# Update rules\n",
        "So far we have used vanilla stochastic gradient descent (SGD) as our update rule. More sophisticated update rules can make it easier to train deep networks. We will implement a few of the most commonly used update rules and compare them to vanilla SGD."
      ]
    },
    {
      "cell_type": "markdown",
      "metadata": {
        "editable": true,
        "deletable": true,
        "id": "L4qnjCos26Vi"
      },
      "source": [
        "# SGD+Momentum\n",
        "Stochastic gradient descent with momentum is a widely used update rule that tends to make deep networks converge faster than vanilla stochstic gradient descent.\n",
        "\n",
        "Open the file `cs231n/optim.py` and read the documentation at the top of the file to make sure you understand the API. Implement the SGD+momentum update rule in the function `sgd_momentum` and run the following to check your implementation. You should see errors less than 1e-8."
      ]
    },
    {
      "cell_type": "code",
      "metadata": {
        "editable": true,
        "deletable": true,
        "id": "GpN6bwBA26Vi",
        "colab": {
          "base_uri": "https://localhost:8080/"
        },
        "outputId": "293ef4d2-6a76-4796-fb5d-c7ff444d8e24"
      },
      "source": [
        "from optim import sgd_momentum\n",
        "\n",
        "N, D = 4, 5\n",
        "w = np.linspace(-0.4, 0.6, num=N*D).reshape(N, D)\n",
        "dw = np.linspace(-0.6, 0.4, num=N*D).reshape(N, D)\n",
        "v = np.linspace(0.6, 0.9, num=N*D).reshape(N, D)\n",
        "\n",
        "config = {'learning_rate': 1e-3, 'velocity': v}\n",
        "next_w, _ = sgd_momentum(w, dw, config=config)\n",
        "\n",
        "expected_next_w = np.asarray([\n",
        "  [ 0.1406,      0.20738947,  0.27417895,  0.34096842,  0.40775789],\n",
        "  [ 0.47454737,  0.54133684,  0.60812632,  0.67491579,  0.74170526],\n",
        "  [ 0.80849474,  0.87528421,  0.94207368,  1.00886316,  1.07565263],\n",
        "  [ 1.14244211,  1.20923158,  1.27602105,  1.34281053,  1.4096    ]])\n",
        "expected_velocity = np.asarray([\n",
        "  [ 0.5406,      0.55475789,  0.56891579, 0.58307368,  0.59723158],\n",
        "  [ 0.61138947,  0.62554737,  0.63970526,  0.65386316,  0.66802105],\n",
        "  [ 0.68217895,  0.69633684,  0.71049474,  0.72465263,  0.73881053],\n",
        "  [ 0.75296842,  0.76712632,  0.78128421,  0.79544211,  0.8096    ]])\n",
        "\n",
        "print('next_w error: ', rel_error(next_w, expected_next_w))\n",
        "print('velocity error: ', rel_error(expected_velocity, config['velocity']))"
      ],
      "execution_count": null,
      "outputs": [
        {
          "output_type": "stream",
          "name": "stdout",
          "text": [
            "next_w error:  8.882347033505819e-09\n",
            "velocity error:  4.269287743278663e-09\n"
          ]
        }
      ]
    },
    {
      "cell_type": "markdown",
      "metadata": {
        "editable": true,
        "deletable": true,
        "id": "rP9YRuv-26Vi"
      },
      "source": [
        "Once you have done so, run the following to train a six-layer network with both SGD and SGD+momentum. You should see the SGD+momentum update rule converge faster."
      ]
    },
    {
      "cell_type": "code",
      "metadata": {
        "scrolled": false,
        "editable": true,
        "deletable": true,
        "id": "F9ukxqG926Vj",
        "colab": {
          "base_uri": "https://localhost:8080/",
          "height": 1000
        },
        "outputId": "f860ffa9-e4b2-4bd7-9ccf-e8998db7cfa7"
      },
      "source": [
        "num_train = 4000\n",
        "small_data = {\n",
        "  'X_train': data['X_train'][:num_train],\n",
        "  'y_train': data['y_train'][:num_train],\n",
        "  'X_val': data['X_val'],\n",
        "  'y_val': data['y_val'],\n",
        "}\n",
        "\n",
        "solvers = {}\n",
        "\n",
        "for update_rule in ['sgd', 'sgd_momentum']:\n",
        "  print('running with ', update_rule)\n",
        "  model = FullyConnectedNet([100, 100, 100, 100, 100], weight_scale=5e-2)\n",
        "\n",
        "  solver = Solver(model, small_data,\n",
        "                  num_epochs=5, batch_size=100,\n",
        "                  update_rule=update_rule,\n",
        "                  optim_config={\n",
        "                    'learning_rate': 1e-2,\n",
        "                  },\n",
        "                  verbose=True)\n",
        "  solvers[update_rule] = solver\n",
        "  solver.train()\n",
        "  print()\n",
        "\n",
        "plt.subplot(3, 1, 1)\n",
        "plt.title('Training loss')\n",
        "plt.xlabel('Iteration')\n",
        "\n",
        "plt.subplot(3, 1, 2)\n",
        "plt.title('Training accuracy')\n",
        "plt.xlabel('Epoch')\n",
        "\n",
        "plt.subplot(3, 1, 3)\n",
        "plt.title('Validation accuracy')\n",
        "plt.xlabel('Epoch')\n",
        "\n",
        "for update_rule, solver in list(solvers.items()):\n",
        "  plt.subplot(3, 1, 1)\n",
        "  plt.plot(solver.loss_history, 'o', label=update_rule)\n",
        "  \n",
        "  plt.subplot(3, 1, 2)\n",
        "  plt.plot(solver.train_acc_history, '-o', label=update_rule)\n",
        "\n",
        "  plt.subplot(3, 1, 3)\n",
        "  plt.plot(solver.val_acc_history, '-o', label=update_rule)\n",
        "  \n",
        "for i in [1, 2, 3]:\n",
        "  plt.subplot(3, 1, i)\n",
        "  plt.legend(loc='upper center', ncol=4)\n",
        "plt.gcf().set_size_inches(15, 15)\n",
        "plt.show()"
      ],
      "execution_count": null,
      "outputs": [
        {
          "output_type": "stream",
          "name": "stdout",
          "text": [
            "running with  sgd\n",
            "(Iteration 1 / 200) loss: 2.559978\n",
            "(Epoch 0 / 5) train acc: 0.103000; val_acc: 0.108000\n",
            "(Iteration 11 / 200) loss: 2.291086\n",
            "(Iteration 21 / 200) loss: 2.153591\n",
            "(Iteration 31 / 200) loss: 2.082693\n",
            "(Epoch 1 / 5) train acc: 0.277000; val_acc: 0.242000\n",
            "(Iteration 41 / 200) loss: 2.004171\n",
            "(Iteration 51 / 200) loss: 2.010409\n",
            "(Iteration 61 / 200) loss: 2.023753\n",
            "(Iteration 71 / 200) loss: 2.026621\n",
            "(Epoch 2 / 5) train acc: 0.352000; val_acc: 0.312000\n",
            "(Iteration 81 / 200) loss: 1.807163\n",
            "(Iteration 91 / 200) loss: 1.914256\n",
            "(Iteration 101 / 200) loss: 1.917176\n",
            "(Iteration 111 / 200) loss: 1.706193\n",
            "(Epoch 3 / 5) train acc: 0.405000; val_acc: 0.322000\n",
            "(Iteration 121 / 200) loss: 1.697994\n",
            "(Iteration 131 / 200) loss: 1.768837\n",
            "(Iteration 141 / 200) loss: 1.784967\n",
            "(Iteration 151 / 200) loss: 1.823291\n",
            "(Epoch 4 / 5) train acc: 0.431000; val_acc: 0.324000\n",
            "(Iteration 161 / 200) loss: 1.626499\n",
            "(Iteration 171 / 200) loss: 1.901366\n",
            "(Iteration 181 / 200) loss: 1.550534\n",
            "(Iteration 191 / 200) loss: 1.716921\n",
            "(Epoch 5 / 5) train acc: 0.436000; val_acc: 0.330000\n",
            "\n",
            "running with  sgd_momentum\n",
            "(Iteration 1 / 200) loss: 3.153778\n",
            "(Epoch 0 / 5) train acc: 0.105000; val_acc: 0.093000\n",
            "(Iteration 11 / 200) loss: 2.145874\n",
            "(Iteration 21 / 200) loss: 2.032562\n",
            "(Iteration 31 / 200) loss: 1.985848\n",
            "(Epoch 1 / 5) train acc: 0.311000; val_acc: 0.281000\n",
            "(Iteration 41 / 200) loss: 1.882354\n",
            "(Iteration 51 / 200) loss: 1.855372\n",
            "(Iteration 61 / 200) loss: 1.649133\n",
            "(Iteration 71 / 200) loss: 1.806432\n",
            "(Epoch 2 / 5) train acc: 0.415000; val_acc: 0.324000\n",
            "(Iteration 81 / 200) loss: 1.907840\n",
            "(Iteration 91 / 200) loss: 1.510681\n",
            "(Iteration 101 / 200) loss: 1.546872\n",
            "(Iteration 111 / 200) loss: 1.512047\n",
            "(Epoch 3 / 5) train acc: 0.434000; val_acc: 0.321000\n",
            "(Iteration 121 / 200) loss: 1.677301\n",
            "(Iteration 131 / 200) loss: 1.504686\n",
            "(Iteration 141 / 200) loss: 1.633253\n",
            "(Iteration 151 / 200) loss: 1.745081\n",
            "(Epoch 4 / 5) train acc: 0.460000; val_acc: 0.353000\n",
            "(Iteration 161 / 200) loss: 1.485411\n",
            "(Iteration 171 / 200) loss: 1.610417\n",
            "(Iteration 181 / 200) loss: 1.528331\n",
            "(Iteration 191 / 200) loss: 1.449158\n",
            "(Epoch 5 / 5) train acc: 0.507000; val_acc: 0.384000\n",
            "\n"
          ]
        },
        {
          "output_type": "stream",
          "name": "stderr",
          "text": [
            "/usr/local/lib/python3.7/dist-packages/ipykernel_launcher.py:39: MatplotlibDeprecationWarning: Adding an axes using the same arguments as a previous axes currently reuses the earlier instance.  In a future version, a new instance will always be created and returned.  Meanwhile, this warning can be suppressed, and the future behavior ensured, by passing a unique label to each axes instance.\n",
            "/usr/local/lib/python3.7/dist-packages/ipykernel_launcher.py:42: MatplotlibDeprecationWarning: Adding an axes using the same arguments as a previous axes currently reuses the earlier instance.  In a future version, a new instance will always be created and returned.  Meanwhile, this warning can be suppressed, and the future behavior ensured, by passing a unique label to each axes instance.\n",
            "/usr/local/lib/python3.7/dist-packages/ipykernel_launcher.py:45: MatplotlibDeprecationWarning: Adding an axes using the same arguments as a previous axes currently reuses the earlier instance.  In a future version, a new instance will always be created and returned.  Meanwhile, this warning can be suppressed, and the future behavior ensured, by passing a unique label to each axes instance.\n",
            "/usr/local/lib/python3.7/dist-packages/ipykernel_launcher.py:49: MatplotlibDeprecationWarning: Adding an axes using the same arguments as a previous axes currently reuses the earlier instance.  In a future version, a new instance will always be created and returned.  Meanwhile, this warning can be suppressed, and the future behavior ensured, by passing a unique label to each axes instance.\n"
          ]
        },
        {
          "output_type": "display_data",
          "data": {
            "image/png": "[encoded data removed]",
            "text/plain": [
              "<Figure size 1080x1080 with 3 Axes>"
            ]
          },
          "metadata": {
            "needs_background": "light"
          }
        }
      ]
    },
    {
      "cell_type": "markdown",
      "metadata": {
        "editable": true,
        "deletable": true,
        "id": "NwuylzXB-V77"
      },
      "source": [
        "# 확실히 SGD + Momentum이 더 빨리 수렴하는걸 볼 수 있다."
      ]
    },
    {
      "cell_type": "markdown",
      "metadata": {
        "editable": true,
        "deletable": true,
        "id": "c1K7x8vC26Vj"
      },
      "source": [
        "# RMSProp and Adam\n",
        "RMSProp [1] and Adam [2] are update rules that set per-parameter learning rates by using a running average of the second moments of gradients.\n",
        "\n",
        "In the file `cs231n/optim.py`, implement the RMSProp update rule in the `rmsprop` function and implement the Adam update rule in the `adam` function, and check your implementations using the tests below.\n",
        "\n",
        "[1] Tijmen Tieleman and Geoffrey Hinton. \"Lecture 6.5-rmsprop: Divide the gradient by a running average of its recent magnitude.\" COURSERA: Neural Networks for Machine Learning 4 (2012).\n",
        "\n",
        "[2] Diederik Kingma and Jimmy Ba, \"Adam: A Method for Stochastic Optimization\", ICLR 2015."
      ]
    },
    {
      "cell_type": "code",
      "metadata": {
        "editable": true,
        "deletable": true,
        "id": "pFZzcwtC26Vj",
        "colab": {
          "base_uri": "https://localhost:8080/"
        },
        "outputId": "59bf5e11-1352-4d46-8a96-e95342b6aa55"
      },
      "source": [
        "# Test RMSProp implementation; you should see errors less than 1e-7\n",
        "from optim import rmsprop\n",
        "\n",
        "N, D = 4, 5\n",
        "w = np.linspace(-0.4, 0.6, num=N*D).reshape(N, D)\n",
        "dw = np.linspace(-0.6, 0.4, num=N*D).reshape(N, D)\n",
        "cache = np.linspace(0.6, 0.9, num=N*D).reshape(N, D)\n",
        "\n",
        "config = {'learning_rate': 1e-2, 'cache': cache}\n",
        "next_w, _ = rmsprop(w, dw, config=config)\n",
        "\n",
        "expected_next_w = np.asarray([\n",
        "  [-0.39223849, -0.34037513, -0.28849239, -0.23659121, -0.18467247],\n",
        "  [-0.132737,   -0.08078555, -0.02881884,  0.02316247,  0.07515774],\n",
        "  [ 0.12716641,  0.17918792,  0.23122175,  0.28326742,  0.33532447],\n",
        "  [ 0.38739248,  0.43947102,  0.49155973,  0.54365823,  0.59576619]])\n",
        "expected_cache = np.asarray([\n",
        "  [ 0.5976,      0.6126277,   0.6277108,   0.64284931,  0.65804321],\n",
        "  [ 0.67329252,  0.68859723,  0.70395734,  0.71937285,  0.73484377],\n",
        "  [ 0.75037008,  0.7659518,   0.78158892,  0.79728144,  0.81302936],\n",
        "  [ 0.82883269,  0.84469141,  0.86060554,  0.87657507,  0.8926    ]])\n",
        "\n",
        "print('next_w error: ', rel_error(expected_next_w, next_w))\n",
        "print('cache error: ', rel_error(expected_cache, config['cache']))"
      ],
      "execution_count": null,
      "outputs": [
        {
          "output_type": "stream",
          "name": "stdout",
          "text": [
            "next_w error:  9.524687511038133e-08\n",
            "cache error:  2.6477955807156126e-09\n"
          ]
        }
      ]
    },
    {
      "cell_type": "code",
      "metadata": {
        "editable": true,
        "deletable": true,
        "id": "Reqf5gDM26Vj",
        "colab": {
          "base_uri": "https://localhost:8080/"
        },
        "outputId": "e325f042-7277-4ca3-e713-ae1cbdf44cee"
      },
      "source": [
        "# Test Adam implementation; you should see errors around 1e-7 or less\n",
        "from optim import adam\n",
        "\n",
        "N, D = 4, 5\n",
        "w = np.linspace(-0.4, 0.6, num=N*D).reshape(N, D)\n",
        "dw = np.linspace(-0.6, 0.4, num=N*D).reshape(N, D)\n",
        "m = np.linspace(0.6, 0.9, num=N*D).reshape(N, D)\n",
        "v = np.linspace(0.7, 0.5, num=N*D).reshape(N, D)\n",
        "\n",
        "config = {'learning_rate': 1e-2, 'm': m, 'v': v, 't': 5}\n",
        "next_w, _ = adam(w, dw, config=config)\n",
        "\n",
        "expected_next_w = np.asarray([\n",
        "  [-0.40094747, -0.34836187, -0.29577703, -0.24319299, -0.19060977],\n",
        "  [-0.1380274,  -0.08544591, -0.03286534,  0.01971428,  0.0722929],\n",
        "  [ 0.1248705,   0.17744702,  0.23002243,  0.28259667,  0.33516969],\n",
        "  [ 0.38774145,  0.44031188,  0.49288093,  0.54544852,  0.59801459]])\n",
        "expected_v = np.asarray([\n",
        "  [ 0.69966,     0.68908382,  0.67851319,  0.66794809,  0.65738853,],\n",
        "  [ 0.64683452,  0.63628604,  0.6257431,   0.61520571,  0.60467385,],\n",
        "  [ 0.59414753,  0.58362676,  0.57311152,  0.56260183,  0.55209767,],\n",
        "  [ 0.54159906,  0.53110598,  0.52061845,  0.51013645,  0.49966,   ]])\n",
        "expected_m = np.asarray([\n",
        "  [ 0.48,        0.49947368,  0.51894737,  0.53842105,  0.55789474],\n",
        "  [ 0.57736842,  0.59684211,  0.61631579,  0.63578947,  0.65526316],\n",
        "  [ 0.67473684,  0.69421053,  0.71368421,  0.73315789,  0.75263158],\n",
        "  [ 0.77210526,  0.79157895,  0.81105263,  0.83052632,  0.85      ]])\n",
        "\n",
        "print('next_w error: ', rel_error(expected_next_w, next_w))\n",
        "print('v error: ', rel_error(expected_v, config['v']))\n",
        "print('m error: ', rel_error(expected_m, config['m']))"
      ],
      "execution_count": null,
      "outputs": [
        {
          "output_type": "stream",
          "name": "stdout",
          "text": [
            "next_w error:  1.1395691798535431e-07\n",
            "v error:  4.208314038113071e-09\n",
            "m error:  4.214963193114416e-09\n"
          ]
        }
      ]
    },
    {
      "cell_type": "markdown",
      "metadata": {
        "editable": true,
        "deletable": true,
        "id": "DobtGucd26Vj"
      },
      "source": [
        "Once you have debugged your RMSProp and Adam implementations, run the following to train a pair of deep networks using these new update rules:"
      ]
    },
    {
      "cell_type": "code",
      "metadata": {
        "editable": true,
        "deletable": true,
        "id": "JDE-oNUV26Vj",
        "colab": {
          "base_uri": "https://localhost:8080/",
          "height": 1000
        },
        "outputId": "3d0b6882-f69f-4e2b-9cc5-418526d96189"
      },
      "source": [
        "learning_rates = {'rmsprop': 1e-4, 'adam': 1e-3}\n",
        "for update_rule in ['adam', 'rmsprop']:\n",
        "  print('running with ', update_rule)\n",
        "  model = FullyConnectedNet([100, 100, 100, 100, 100], weight_scale=5e-2)\n",
        "\n",
        "  solver = Solver(model, small_data,\n",
        "                  num_epochs=5, batch_size=100,\n",
        "                  update_rule=update_rule,\n",
        "                  optim_config={\n",
        "                    'learning_rate': learning_rates[update_rule]\n",
        "                  },\n",
        "                  verbose=True)\n",
        "  solvers[update_rule] = solver\n",
        "  solver.train()\n",
        "  print()\n",
        "\n",
        "plt.subplot(3, 1, 1)\n",
        "plt.title('Training loss')\n",
        "plt.xlabel('Iteration')\n",
        "\n",
        "plt.subplot(3, 1, 2)\n",
        "plt.title('Training accuracy')\n",
        "plt.xlabel('Epoch')\n",
        "\n",
        "plt.subplot(3, 1, 3)\n",
        "plt.title('Validation accuracy')\n",
        "plt.xlabel('Epoch')\n",
        "\n",
        "for update_rule, solver in list(solvers.items()):\n",
        "  plt.subplot(3, 1, 1)\n",
        "  plt.plot(solver.loss_history, 'o', label=update_rule)\n",
        "  \n",
        "  plt.subplot(3, 1, 2)\n",
        "  plt.plot(solver.train_acc_history, '-o', label=update_rule)\n",
        "\n",
        "  plt.subplot(3, 1, 3)\n",
        "  plt.plot(solver.val_acc_history, '-o', label=update_rule)\n",
        "  \n",
        "for i in [1, 2, 3]:\n",
        "  plt.subplot(3, 1, i)\n",
        "  plt.legend(loc='upper center', ncol=4)\n",
        "plt.gcf().set_size_inches(15, 15)\n",
        "plt.show()"
      ],
      "execution_count": null,
      "outputs": [
        {
          "output_type": "stream",
          "name": "stdout",
          "text": [
            "running with  adam\n",
            "(Iteration 1 / 200) loss: 3.476928\n",
            "(Epoch 0 / 5) train acc: 0.143000; val_acc: 0.114000\n",
            "(Iteration 11 / 200) loss: 2.089203\n",
            "(Iteration 21 / 200) loss: 2.211850\n",
            "(Iteration 31 / 200) loss: 1.786014\n",
            "(Epoch 1 / 5) train acc: 0.393000; val_acc: 0.340000\n",
            "(Iteration 41 / 200) loss: 1.743812\n",
            "(Iteration 51 / 200) loss: 1.752165\n",
            "(Iteration 61 / 200) loss: 2.095686\n",
            "(Iteration 71 / 200) loss: 1.489003\n",
            "(Epoch 2 / 5) train acc: 0.411000; val_acc: 0.357000\n",
            "(Iteration 81 / 200) loss: 1.546641\n",
            "(Iteration 91 / 200) loss: 1.412223\n",
            "(Iteration 101 / 200) loss: 1.401821\n",
            "(Iteration 111 / 200) loss: 1.521807\n",
            "(Epoch 3 / 5) train acc: 0.494000; val_acc: 0.368000\n",
            "(Iteration 121 / 200) loss: 1.237183\n",
            "(Iteration 131 / 200) loss: 1.466022\n",
            "(Iteration 141 / 200) loss: 1.284994\n",
            "(Iteration 151 / 200) loss: 1.466689\n",
            "(Epoch 4 / 5) train acc: 0.529000; val_acc: 0.383000\n",
            "(Iteration 161 / 200) loss: 1.405442\n",
            "(Iteration 171 / 200) loss: 1.270982\n",
            "(Iteration 181 / 200) loss: 1.276394\n",
            "(Iteration 191 / 200) loss: 1.170272\n",
            "(Epoch 5 / 5) train acc: 0.582000; val_acc: 0.375000\n",
            "\n",
            "running with  rmsprop\n",
            "(Iteration 1 / 200) loss: 2.589166\n",
            "(Epoch 0 / 5) train acc: 0.119000; val_acc: 0.146000\n",
            "(Iteration 11 / 200) loss: 2.032921\n",
            "(Iteration 21 / 200) loss: 1.897278\n",
            "(Iteration 31 / 200) loss: 1.770793\n",
            "(Epoch 1 / 5) train acc: 0.381000; val_acc: 0.320000\n",
            "(Iteration 41 / 200) loss: 1.895731\n",
            "(Iteration 51 / 200) loss: 1.681091\n",
            "(Iteration 61 / 200) loss: 1.487204\n",
            "(Iteration 71 / 200) loss: 1.629973\n",
            "(Epoch 2 / 5) train acc: 0.429000; val_acc: 0.350000\n",
            "(Iteration 81 / 200) loss: 1.506686\n",
            "(Iteration 91 / 200) loss: 1.610742\n",
            "(Iteration 101 / 200) loss: 1.486124\n",
            "(Iteration 111 / 200) loss: 1.559454\n",
            "(Epoch 3 / 5) train acc: 0.492000; val_acc: 0.361000\n",
            "(Iteration 121 / 200) loss: 1.497406\n",
            "(Iteration 131 / 200) loss: 1.530736\n",
            "(Iteration 141 / 200) loss: 1.550958\n",
            "(Iteration 151 / 200) loss: 1.652046\n",
            "(Epoch 4 / 5) train acc: 0.530000; val_acc: 0.361000\n",
            "(Iteration 161 / 200) loss: 1.599574\n",
            "(Iteration 171 / 200) loss: 1.401073\n",
            "(Iteration 181 / 200) loss: 1.509365\n",
            "(Iteration 191 / 200) loss: 1.365773\n",
            "(Epoch 5 / 5) train acc: 0.531000; val_acc: 0.369000\n",
            "\n"
          ]
        },
        {
          "output_type": "stream",
          "name": "stderr",
          "text": [
            "/usr/local/lib/python3.7/dist-packages/ipykernel_launcher.py:30: MatplotlibDeprecationWarning: Adding an axes using the same arguments as a previous axes currently reuses the earlier instance.  In a future version, a new instance will always be created and returned.  Meanwhile, this warning can be suppressed, and the future behavior ensured, by passing a unique label to each axes instance.\n",
            "/usr/local/lib/python3.7/dist-packages/ipykernel_launcher.py:33: MatplotlibDeprecationWarning: Adding an axes using the same arguments as a previous axes currently reuses the earlier instance.  In a future version, a new instance will always be created and returned.  Meanwhile, this warning can be suppressed, and the future behavior ensured, by passing a unique label to each axes instance.\n",
            "/usr/local/lib/python3.7/dist-packages/ipykernel_launcher.py:36: MatplotlibDeprecationWarning: Adding an axes using the same arguments as a previous axes currently reuses the earlier instance.  In a future version, a new instance will always be created and returned.  Meanwhile, this warning can be suppressed, and the future behavior ensured, by passing a unique label to each axes instance.\n",
            "/usr/local/lib/python3.7/dist-packages/ipykernel_launcher.py:40: MatplotlibDeprecationWarning: Adding an axes using the same arguments as a previous axes currently reuses the earlier instance.  In a future version, a new instance will always be created and returned.  Meanwhile, this warning can be suppressed, and the future behavior ensured, by passing a unique label to each axes instance.\n"
          ]
        },
        {
          "output_type": "display_data",
          "data": {
            "image/png": "[encoded data removed]",
            "text/plain": [
              "<Figure size 1080x1080 with 3 Axes>"
            ]
          },
          "metadata": {
            "needs_background": "light"
          }
        }
      ]
    },
    {
      "cell_type": "markdown",
      "metadata": {
        "editable": true,
        "deletable": true,
        "id": "t5cq3qKn26Vj"
      },
      "source": [
        "# Train a good model!\n",
        "Train the best fully-connected model that you can on CIFAR-10, storing your best model in the `best_model` variable. We require you to get at least 50% accuracy on the validation set using a fully-connected net.\n",
        "\n",
        "If you are careful it should be possible to get accuracies above 55%, but we don't require it for this part and won't assign extra credit for doing so. Later in the assignment we will ask you to train the best convolutional network that you can on CIFAR-10, and we would prefer that you spend your effort working on convolutional nets rather than fully-connected nets.\n",
        "\n",
        "You might find it useful to complete the `BatchNormalization.ipynb` and `Dropout.ipynb` notebooks before completing this part, since those techniques can help you train powerful models."
      ]
    },
    {
      "cell_type": "code",
      "metadata": {
        "scrolled": false,
        "editable": true,
        "deletable": true,
        "id": "sl2oxoe126Vk",
        "colab": {
          "base_uri": "https://localhost:8080/"
        },
        "outputId": "2b821acf-b9d3-4056-caa1-24df1b98fdd4"
      },
      "source": [
        "best_model = None\n",
        "best_acc = 0\n",
        "################################################################################\n",
        "# TODO: Train the best FullyConnectedNet that you can on CIFAR-10. You might   #\n",
        "# batch normalization and dropout useful. Store your best model in the         #\n",
        "# best_model variable.                                                         #\n",
        "################################################################################\n",
        "\n",
        "# range를 늘리거나 batchnorm + dropout을 사용해 더 정확도를 늘릴 수 있다.\n",
        "for i in range(1):\n",
        "  reg = 10**np.random.uniform(-1, 1)\n",
        "  lr = 10**np.random.uniform(-2, -4)\n",
        "  dim_num = 150\n",
        "  std = 10**np.random.uniform(-1, -3)\n",
        "  model = FullyConnectedNet([dim_num, dim_num, dim_num],\n",
        "                            weight_scale=std\n",
        "                            )\n",
        "                            # ,use_batchnorm=False,\n",
        "                            # dropout=0.75)\n",
        "\n",
        "  solver = Solver(model, data,\n",
        "                  num_epochs=20, batch_size=100,\n",
        "                  lr_decay=0.9, update_rule='adam',\n",
        "                  optim_config={\n",
        "                    'learning_rate': lr\n",
        "                  },\n",
        "                  print_every=100, verbose=True)\n",
        "\n",
        "  print('reg: %f, lr: %f, std: %f'%(reg, lr, std))\n",
        "  solver.train()\n",
        "\n",
        "  train_acc = solver.check_accuracy(data['X_train'], data['y_train'])\n",
        "  val_acc = solver.check_accuracy(data['X_val'], data['y_val'])\n",
        "  print('train_acc: %f, val_acc: %f' %(train_acc, val_acc))\n",
        "  print()\n",
        "\n",
        "  if val_acc > best_acc:\n",
        "    best_acc = val_acc\n",
        "    best_model = model\n",
        "\n",
        "################################################################################\n",
        "#                              END OF YOUR CODE                                #\n",
        "################################################################################"
      ],
      "execution_count": 27,
      "outputs": [
        {
          "output_type": "stream",
          "name": "stdout",
          "text": [
            "reg: 0.568173, lr: 0.000839, std: 0.001072\n",
            "(Iteration 1 / 9800) loss: 2.302585\n",
            "(Epoch 0 / 20) train acc: 0.110000; val_acc: 0.112000\n",
            "(Iteration 101 / 9800) loss: 1.996513\n",
            "(Iteration 201 / 9800) loss: 1.826698\n",
            "(Iteration 301 / 9800) loss: 1.933662\n",
            "(Iteration 401 / 9800) loss: 1.707578\n",
            "(Epoch 1 / 20) train acc: 0.431000; val_acc: 0.427000\n",
            "(Iteration 501 / 9800) loss: 1.538293\n",
            "(Iteration 601 / 9800) loss: 1.542792\n",
            "(Iteration 701 / 9800) loss: 1.537003\n",
            "(Iteration 801 / 9800) loss: 1.577539\n",
            "(Iteration 901 / 9800) loss: 1.409173\n",
            "(Epoch 2 / 20) train acc: 0.496000; val_acc: 0.461000\n",
            "(Iteration 1001 / 9800) loss: 1.613728\n",
            "(Iteration 1101 / 9800) loss: 1.604907\n",
            "(Iteration 1201 / 9800) loss: 1.222716\n",
            "(Iteration 1301 / 9800) loss: 1.374177\n",
            "(Iteration 1401 / 9800) loss: 1.350952\n",
            "(Epoch 3 / 20) train acc: 0.527000; val_acc: 0.490000\n",
            "(Iteration 1501 / 9800) loss: 1.200108\n",
            "(Iteration 1601 / 9800) loss: 1.269510\n",
            "(Iteration 1701 / 9800) loss: 1.195684\n",
            "(Iteration 1801 / 9800) loss: 1.232547\n",
            "(Iteration 1901 / 9800) loss: 1.141946\n",
            "(Epoch 4 / 20) train acc: 0.542000; val_acc: 0.508000\n",
            "(Iteration 2001 / 9800) loss: 1.247065\n",
            "(Iteration 2101 / 9800) loss: 1.242409\n",
            "(Iteration 2201 / 9800) loss: 1.152967\n",
            "(Iteration 2301 / 9800) loss: 1.161064\n",
            "(Iteration 2401 / 9800) loss: 1.207012\n",
            "(Epoch 5 / 20) train acc: 0.580000; val_acc: 0.523000\n",
            "(Iteration 2501 / 9800) loss: 0.962004\n",
            "(Iteration 2601 / 9800) loss: 1.068830\n",
            "(Iteration 2701 / 9800) loss: 1.252150\n",
            "(Iteration 2801 / 9800) loss: 1.109325\n",
            "(Iteration 2901 / 9800) loss: 1.201582\n",
            "(Epoch 6 / 20) train acc: 0.576000; val_acc: 0.524000\n",
            "(Iteration 3001 / 9800) loss: 1.195528\n",
            "(Iteration 3101 / 9800) loss: 1.112357\n",
            "(Iteration 3201 / 9800) loss: 1.127140\n",
            "(Iteration 3301 / 9800) loss: 1.076232\n",
            "(Iteration 3401 / 9800) loss: 1.068815\n",
            "(Epoch 7 / 20) train acc: 0.615000; val_acc: 0.530000\n",
            "(Iteration 3501 / 9800) loss: 0.979670\n",
            "(Iteration 3601 / 9800) loss: 0.990605\n",
            "(Iteration 3701 / 9800) loss: 1.050115\n",
            "(Iteration 3801 / 9800) loss: 1.018605\n",
            "(Iteration 3901 / 9800) loss: 1.155834\n",
            "(Epoch 8 / 20) train acc: 0.628000; val_acc: 0.538000\n",
            "(Iteration 4001 / 9800) loss: 1.082010\n",
            "(Iteration 4101 / 9800) loss: 1.097605\n",
            "(Iteration 4201 / 9800) loss: 1.107842\n",
            "(Iteration 4301 / 9800) loss: 0.930996\n",
            "(Iteration 4401 / 9800) loss: 1.111422\n",
            "(Epoch 9 / 20) train acc: 0.647000; val_acc: 0.545000\n",
            "(Iteration 4501 / 9800) loss: 0.876685\n",
            "(Iteration 4601 / 9800) loss: 1.080241\n",
            "(Iteration 4701 / 9800) loss: 1.020292\n",
            "(Iteration 4801 / 9800) loss: 0.923549\n",
            "(Epoch 10 / 20) train acc: 0.665000; val_acc: 0.532000\n",
            "(Iteration 4901 / 9800) loss: 1.116585\n",
            "(Iteration 5001 / 9800) loss: 1.102851\n",
            "(Iteration 5101 / 9800) loss: 1.090933\n",
            "(Iteration 5201 / 9800) loss: 1.009081\n",
            "(Iteration 5301 / 9800) loss: 1.037358\n",
            "(Epoch 11 / 20) train acc: 0.669000; val_acc: 0.535000\n",
            "(Iteration 5401 / 9800) loss: 0.862252\n",
            "(Iteration 5501 / 9800) loss: 0.915855\n",
            "(Iteration 5601 / 9800) loss: 1.028332\n",
            "(Iteration 5701 / 9800) loss: 1.142283\n",
            "(Iteration 5801 / 9800) loss: 0.851573\n",
            "(Epoch 12 / 20) train acc: 0.664000; val_acc: 0.525000\n",
            "(Iteration 5901 / 9800) loss: 0.854242\n",
            "(Iteration 6001 / 9800) loss: 0.887127\n",
            "(Iteration 6101 / 9800) loss: 0.980250\n",
            "(Iteration 6201 / 9800) loss: 0.737039\n",
            "(Iteration 6301 / 9800) loss: 0.734067\n",
            "(Epoch 13 / 20) train acc: 0.677000; val_acc: 0.532000\n",
            "(Iteration 6401 / 9800) loss: 0.957461\n",
            "(Iteration 6501 / 9800) loss: 0.689653\n",
            "(Iteration 6601 / 9800) loss: 0.780688\n",
            "(Iteration 6701 / 9800) loss: 0.794532\n",
            "(Iteration 6801 / 9800) loss: 0.951981\n",
            "(Epoch 14 / 20) train acc: 0.689000; val_acc: 0.539000\n",
            "(Iteration 6901 / 9800) loss: 0.969334\n",
            "(Iteration 7001 / 9800) loss: 0.665786\n",
            "(Iteration 7101 / 9800) loss: 0.841911\n",
            "(Iteration 7201 / 9800) loss: 0.975650\n",
            "(Iteration 7301 / 9800) loss: 0.803525\n",
            "(Epoch 15 / 20) train acc: 0.733000; val_acc: 0.522000\n",
            "(Iteration 7401 / 9800) loss: 0.907031\n",
            "(Iteration 7501 / 9800) loss: 0.952175\n",
            "(Iteration 7601 / 9800) loss: 0.824376\n",
            "(Iteration 7701 / 9800) loss: 0.919046\n",
            "(Iteration 7801 / 9800) loss: 0.977819\n",
            "(Epoch 16 / 20) train acc: 0.717000; val_acc: 0.534000\n",
            "(Iteration 7901 / 9800) loss: 0.936647\n",
            "(Iteration 8001 / 9800) loss: 0.818952\n",
            "(Iteration 8101 / 9800) loss: 0.725071\n",
            "(Iteration 8201 / 9800) loss: 0.768158\n",
            "(Iteration 8301 / 9800) loss: 0.759754\n",
            "(Epoch 17 / 20) train acc: 0.706000; val_acc: 0.515000\n",
            "(Iteration 8401 / 9800) loss: 0.601215\n",
            "(Iteration 8501 / 9800) loss: 0.743308\n",
            "(Iteration 8601 / 9800) loss: 0.737416\n",
            "(Iteration 8701 / 9800) loss: 0.733427\n",
            "(Iteration 8801 / 9800) loss: 0.577504\n",
            "(Epoch 18 / 20) train acc: 0.764000; val_acc: 0.525000\n",
            "(Iteration 8901 / 9800) loss: 0.604905\n",
            "(Iteration 9001 / 9800) loss: 0.839771\n",
            "(Iteration 9101 / 9800) loss: 0.630811\n",
            "(Iteration 9201 / 9800) loss: 0.800489\n",
            "(Iteration 9301 / 9800) loss: 0.637499\n",
            "(Epoch 19 / 20) train acc: 0.760000; val_acc: 0.530000\n",
            "(Iteration 9401 / 9800) loss: 0.616121\n",
            "(Iteration 9501 / 9800) loss: 0.665293\n",
            "(Iteration 9601 / 9800) loss: 0.705538\n",
            "(Iteration 9701 / 9800) loss: 0.890643\n",
            "(Epoch 20 / 20) train acc: 0.759000; val_acc: 0.519000\n",
            "train_acc: 0.645000, val_acc: 0.545000\n",
            "\n"
          ]
        }
      ]
    },
    {
      "cell_type": "markdown",
      "metadata": {
        "editable": true,
        "deletable": true,
        "id": "bPmMpn6d26Vk"
      },
      "source": [
        "# Test you model\n",
        "Run your best model on the validation and test sets. You should achieve above 50% accuracy on the validation set."
      ]
    },
    {
      "cell_type": "code",
      "metadata": {
        "editable": true,
        "deletable": true,
        "id": "FjO9zAK726Vk",
        "colab": {
          "base_uri": "https://localhost:8080/"
        },
        "outputId": "eeb256b4-7db1-4273-a369-a355a1fb8e29"
      },
      "source": [
        "y_test_pred = np.argmax(best_model.loss(data['X_test']), axis=1)\n",
        "y_val_pred = np.argmax(best_model.loss(data['X_val']), axis=1)\n",
        "print('Validation set accuracy: ', (y_val_pred == data['y_val']).mean())\n",
        "print('Test set accuracy: ', (y_test_pred == data['y_test']).mean())"
      ],
      "execution_count": 28,
      "outputs": [
        {
          "output_type": "stream",
          "name": "stdout",
          "text": [
            "Validation set accuracy:  0.545\n",
            "Test set accuracy:  0.536\n"
          ]
        }
      ]
    }
  ]
}